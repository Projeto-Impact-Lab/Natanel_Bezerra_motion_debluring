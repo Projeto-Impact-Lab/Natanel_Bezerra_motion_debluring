{
 "cells": [
  {
   "cell_type": "code",
   "execution_count": 67,
   "metadata": {},
   "outputs": [],
   "source": [
    "import tensorflow as tf\n",
    "\n",
    "import os\n",
    "import pathlib\n",
    "import time\n",
    "import datetime\n",
    "\n",
    "import numpy as np\n",
    "\n",
    "from matplotlib import pyplot as plt\n",
    "from IPython import display\n",
    "\n",
    "import numpy as np\n",
    "from sklearn.model_selection import GridSearchCV\n",
    "\n",
    "import sys\n",
    "\n",
    "sys.path.append('/home/natanael/deblurring_images')\n",
    "from data import Dataset\n",
    "from models.pixpix import Pix2Pix\n",
    "\n",
    "os.environ['TF_FORCE_GPU_ALLOW_GROWTH'] = 'true'\n"
   ]
  },
  {
   "cell_type": "code",
   "execution_count": 68,
   "metadata": {},
   "outputs": [],
   "source": [
    "# Get the list of physical GPU devices\n",
    "physical_devices = tf.config.list_physical_devices('GPU')\n",
    "\n",
    "# Set memory growth for each physical GPU (if available)\n",
    "for device in physical_devices:\n",
    "    tf.config.experimental.set_memory_growth(device, True)"
   ]
  },
  {
   "cell_type": "code",
   "execution_count": null,
   "metadata": {},
   "outputs": [],
   "source": [
    "dataset = Dataset(buffer_size=400, batch_size=1 )\n",
    "\n",
    "train_dataset = dataset.train\n",
    "test_dataset = dataset.test"
   ]
  },
  {
   "cell_type": "code",
   "execution_count": null,
   "metadata": {},
   "outputs": [],
   "source": [
    "LAMBDA = 100\n",
    "loss_object = tf.keras.losses.BinaryCrossentropy(from_logits=True)\n",
    "mse_loss = tf.keras.losses.MeanSquaredError()"
   ]
  },
  {
   "cell_type": "code",
   "execution_count": null,
   "metadata": {},
   "outputs": [],
   "source": [
    "def generator_loss(disc_generated_output, gen_output, target):\n",
    "    gan_loss = loss_object(tf.ones_like(disc_generated_output), disc_generated_output)\n",
    "    \n",
    "    # Mean absolute error\n",
    "    l1_loss = tf.reduce_mean(tf.abs(target - gen_output))\n",
    "    \n",
    "    total_gen_loss = gan_loss + (LAMBDA * l1_loss)\n",
    "    \n",
    "    return total_gen_loss"
   ]
  },
  {
   "cell_type": "code",
   "execution_count": null,
   "metadata": {},
   "outputs": [],
   "source": [
    "def generator_loss_mse(disc_generated_output, gen_output, target):\n",
    "    return mse_loss(target, gen_output)"
   ]
  },
  {
   "cell_type": "code",
   "execution_count": null,
   "metadata": {},
   "outputs": [],
   "source": [
    "def discriminator_loss(disc_real_output, disc_generated_output):\n",
    "  real_loss = loss_object(tf.ones_like(disc_real_output), disc_real_output)\n",
    "\n",
    "  generated_loss = loss_object(tf.zeros_like(disc_generated_output), disc_generated_output)\n",
    "\n",
    "  total_disc_loss = real_loss + generated_loss\n",
    "\n",
    "  return total_disc_loss"
   ]
  },
  {
   "cell_type": "code",
   "execution_count": null,
   "metadata": {},
   "outputs": [],
   "source": [
    "!mkdir ./train_checkpoints_mse_loss"
   ]
  },
  {
   "cell_type": "code",
   "execution_count": null,
   "metadata": {},
   "outputs": [],
   "source": [
    "def score(y_true, y_pred):\n",
    "    \"\"\"Computes the accuracy of the model.\n",
    "\n",
    "    Args:\n",
    "      y_true: The ground truth labels.\n",
    "      y_pred: The predicted labels.\n",
    "\n",
    "    Returns:\n",
    "      The accuracy of the model.\n",
    "    \"\"\"\n",
    "\n",
    "    correct = tf.equal(y_true, y_pred)\n",
    "    accuracy = tf.reduce_mean(tf.cast(correct, tf.float32))\n",
    "    return accuracy"
   ]
  },
  {
   "cell_type": "code",
   "execution_count": null,
   "metadata": {},
   "outputs": [],
   "source": [
    "global step\n",
    "step = 0"
   ]
  },
  {
   "cell_type": "code",
   "execution_count": null,
   "metadata": {},
   "outputs": [],
   "source": [
    "def generate_images(model, test_input, tar):\n",
    "    prediction = model(test_input, training=True)\n",
    "\n",
    "    global step\n",
    "\n",
    "    score_model = score(tar, prediction)\n",
    "    score_mse = mse_loss(tar, prediction)\n",
    "    score_ssim = tf.image.ssim(tar, prediction, max_val=1.0, filter_size=11,\n",
    "                          filter_sigma=1.5, k1=0.01, k2=0.03)\n",
    "    score_psnr = tf.image.psnr(tar, prediction, max_val=1.0)\n",
    "\n",
    "    with summary_writer.as_default():\n",
    "        tf.summary.scalar('acuracy', score_model, step=step//1000)\n",
    "        tf.summary.scalar('mse', score_mse, step=step//1000)\n",
    "        tf.summary.scalar('ssim', score_ssim[0], step=step//1000)\n",
    "        tf.summary.scalar('psnr', score_psnr[0], step=step//1000)\n",
    "\n",
    "    step += 1000\n",
    " "
   ]
  },
  {
   "cell_type": "code",
   "execution_count": null,
   "metadata": {},
   "outputs": [],
   "source": [
    "!mkdir ./logs_mse_loss"
   ]
  },
  {
   "cell_type": "code",
   "execution_count": null,
   "metadata": {},
   "outputs": [],
   "source": [
    "log_dir=\"./logs_mse_loss/\"\n",
    "\n",
    "summary_writer = tf.summary.create_file_writer(\n",
    "  log_dir + \"fit/\" + datetime.datetime.now().strftime(\"%Y%m%d-%H%M%S\"))"
   ]
  },
  {
   "cell_type": "code",
   "execution_count": null,
   "metadata": {},
   "outputs": [],
   "source": [
    "def log_saved(gen_loss_total=None,\n",
    "                disc_loss_total=None,\n",
    "                step=None):\n",
    "    \n",
    "    with summary_writer.as_default():\n",
    "        tf.summary.scalar('disc_loss_total', disc_loss_total, step=step//1000)\n",
    "        tf.summary.scalar('gen_loss_total', gen_loss_total, step=step//1000)"
   ]
  },
  {
   "cell_type": "code",
   "execution_count": null,
   "metadata": {},
   "outputs": [],
   "source": [
    "generator_optimizer = tf.keras.optimizers.Adam(2e-4, beta_1=0.5)\n",
    "discriminator_optimizer = tf.keras.optimizers.Adam(2e-4, beta_1=0.5)\n",
    "checkpoint_dir = './train_checkpoints_mse_loss'\n",
    "\n",
    "pix = Pix2Pix()\n",
    "\n",
    "pix.compile(\n",
    "  otimazer_generator=generator_optimizer,\n",
    "  otimazer_discriminator=discriminator_optimizer, \n",
    "  loss_generator=generator_loss_mse, \n",
    "  loss_discriminator=discriminator_loss, \n",
    "  checkpoint_dir=checkpoint_dir\n",
    ")"
   ]
  },
  {
   "cell_type": "code",
   "execution_count": null,
   "metadata": {},
   "outputs": [],
   "source": [
    "pix.fit(train_dataset, test_dataset, steps=50000, view_callback=generate_images, log_saved=log_saved)"
   ]
  },
  {
   "cell_type": "code",
   "execution_count": null,
   "metadata": {},
   "outputs": [],
   "source": [
    "%load_ext tensorboard\n",
    "%tensorboard --logdir /home/natanael/deblurring_images/notebooks/logs_mse_loss/fit"
   ]
  },
  {
   "cell_type": "code",
   "execution_count": null,
   "metadata": {},
   "outputs": [],
   "source": [
    "def generate_images_view(model, test_input, tar):\n",
    "  prediction = model(test_input, training=True)\n",
    "  plt.figure(figsize=(15, 15))\n",
    "\n",
    "  display_list = [test_input[0], tar[0], prediction[0]]\n",
    "  title = ['Input Image', 'Ground Truth', 'Predicted Image']\n",
    "\n",
    "  for i in range(3):\n",
    "    plt.subplot(1, 3, i+1)\n",
    "    plt.title(title[i])\n",
    "    # Getting the pixel values in the [0, 1] range to plot.\n",
    "    plt.imshow(display_list[i] * 0.5 + 0.5)\n",
    "    plt.axis('off')\n",
    "  plt.show()"
   ]
  },
  {
   "cell_type": "code",
   "execution_count": null,
   "metadata": {},
   "outputs": [],
   "source": [
    "# Run the trained model on a few examples from the test set\n",
    "for inp, tar in test_dataset.take(5):\n",
    "  generate_images_view(pix.generator, inp, tar)"
   ]
  }
 ],
 "metadata": {
  "kernelspec": {
   "display_name": "Python 3.9 (deblur_code)",
   "language": "python",
   "name": "deblur_code"
  },
  "language_info": {
   "codemirror_mode": {
    "name": "ipython",
    "version": 3
   },
   "file_extension": ".py",
   "mimetype": "text/x-python",
   "name": "python",
   "nbconvert_exporter": "python",
   "pygments_lexer": "ipython3",
   "version": "3.9.16"
  }
 },
 "nbformat": 4,
 "nbformat_minor": 4
}
